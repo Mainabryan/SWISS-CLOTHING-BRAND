{
  "nbformat": 4,
  "nbformat_minor": 0,
  "metadata": {
    "colab": {
      "provenance": [],
      "authorship_tag": "ABX9TyPZTBYOnwtF6cO3rZjazby6",
      "include_colab_link": true
    },
    "kernelspec": {
      "name": "python3",
      "display_name": "Python 3"
    },
    "language_info": {
      "name": "python"
    }
  },
  "cells": [
    {
      "cell_type": "markdown",
      "metadata": {
        "id": "view-in-github",
        "colab_type": "text"
      },
      "source": [
        "<a href=\"https://colab.research.google.com/github/Mainabryan/SWISS-CLOTHING-BRAND/blob/main/Swiss_clothing_brand.ipynb\" target=\"_parent\"><img src=\"https://colab.research.google.com/assets/colab-badge.svg\" alt=\"Open In Colab\"/></a>"
      ]
    },
    {
      "cell_type": "markdown",
      "source": [
        "##Load the dataet"
      ],
      "metadata": {
        "id": "cQUq3HkeWBqv"
      }
    },
    {
      "cell_type": "code",
      "source": [
        "import pandas as pd\n",
        "\n",
        "# Load the CSV files with corrected variable names\n",
        "customer_table = pd.read_csv('/content/customer_table-sheet1-sourcetable.csv')\n",
        "employee_table = pd.read_csv('/content/employee_table-sheet1-sourcetable.csv')\n",
        "product_table = pd.read_csv('/content/product_table-sheet1-sourcetable.csv')\n",
        "inventory_restock_table = pd.read_csv('/content/inventory_restock-sheet1-sourcetable.csv')\n",
        "sales_table = pd.read_csv('/content/sales_table-sheet1-sourcetable.csv')\n",
        "marketing_table = pd.read_csv('/content/marketing_table-sheet1-sourcetable.csv')\n",
        "\n",
        "# Verify loading by printing the first few rows of each table\n",
        "print(\"Customers Table:\")\n",
        "print(customer_table.head())\n",
        "print(\"\\nEmployees Table:\")\n",
        "print(employee_table.head())\n",
        "print(\"\\nProducts Table:\")\n",
        "print(product_table.head())\n",
        "print(\"\\nInventory Restock Table:\")\n",
        "print(inventory_restock_table.head())\n",
        "print(\"\\nSales Table:\")\n",
        "print(sales_table.head())\n",
        "print(\"\\nMarketing Table:\")\n",
        "print(marketing_table.head())"
      ],
      "metadata": {
        "colab": {
          "base_uri": "https://localhost:8080/"
        },
        "id": "MYXyBFPQbbKj",
        "outputId": "dd90d44a-585d-429c-b774-063e8965dad0"
      },
      "execution_count": 1,
      "outputs": [
        {
          "output_type": "stream",
          "name": "stdout",
          "text": [
            "Customers Table:\n",
            "   Customer_ID      Gender  Age               Town  Visit_Frequency_per_month  \\\n",
            "0            1        Male   19              Köniz                          5   \n",
            "1            2        Male   19  La Chaux-de-Fonds                          6   \n",
            "2            3        Male   45              Vevey                          3   \n",
            "3            4  Non-binary   40               Bern                          9   \n",
            "4            5      Female   54        Biel/Bienne                          5   \n",
            "\n",
            "  Loyalty_Status Email_Domain  \n",
            "0           Gold   bluewin.ch  \n",
            "1            NaN    gmail.com  \n",
            "2           Gold    yahoo.com  \n",
            "3            NaN  outlook.com  \n",
            "4           Gold    gmail.com  \n",
            "\n",
            "Employees Table:\n",
            "   Restock_ID  Product_ID      Supplier Restock_Date  Units_Ordered  \\\n",
            "0           1          32   BaselBasics   06/17/2025             73   \n",
            "1           2          25  LucerneLooms   01/20/2025             22   \n",
            "2           3           5   BaselBasics   03/09/2025             35   \n",
            "3           4          18    GenevaGarb   06/27/2025             76   \n",
            "4           5          17      EuroModa   01/21/2025             94   \n",
            "\n",
            "   Unit_Cost_CHF Total_Cost_CHF  Lead_Time_days  \n",
            "0          16.82       1,227.86              20  \n",
            "1          28.24         621.28               4  \n",
            "2          16.24         568.40              20  \n",
            "3          30.99       2,355.24              17  \n",
            "4          22.17       2,083.98               4  \n",
            "\n",
            "Products Table:\n",
            "   Product_ID Product_Name Category  Cost_Price_CHF  Selling_Price_CHF  \\\n",
            "0           1    T-shirt 1  T-shirt           24.98              61.69   \n",
            "1           2    T-shirt 2  T-shirt           48.03             109.27   \n",
            "2           3    T-shirt 3  T-shirt           39.28              95.82   \n",
            "3           4    T-shirt 4  T-shirt           33.95              81.30   \n",
            "4           5    T-shirt 5  T-shirt           16.24              34.07   \n",
            "\n",
            "         Supplier  Stock_Level_initial  \n",
            "0      GenevaGarb                  112  \n",
            "1  AlpineTextiles                  145  \n",
            "2   ZurichThreads                  101  \n",
            "3   ZurichThreads                  145  \n",
            "4     BaselBasics                  181  \n",
            "\n",
            "Inventory Restock Table:\n",
            "   Restock_ID  Product_ID      Supplier Restock_Date  Units_Ordered  \\\n",
            "0           1          32   BaselBasics   06/17/2025             73   \n",
            "1           2          25  LucerneLooms   01/20/2025             22   \n",
            "2           3           5   BaselBasics   03/09/2025             35   \n",
            "3           4          18    GenevaGarb   06/27/2025             76   \n",
            "4           5          17      EuroModa   01/21/2025             94   \n",
            "\n",
            "   Unit_Cost_CHF Total_Cost_CHF  Lead_Time_days  \n",
            "0          16.82       1,227.86              20  \n",
            "1          28.24         621.28               4  \n",
            "2          16.24         568.40              20  \n",
            "3          30.99       2,355.24              17  \n",
            "4          22.17       2,083.98               4  \n",
            "\n",
            "Sales Table:\n",
            "   Sale_ID        Date  Product_ID  Quantity  Unit_Price_CHF  Total_Price_CHF  \\\n",
            "0        1  06/01/2025           8         4           75.73           295.34   \n",
            "1        2  05/25/2025          10         3           69.95           182.19   \n",
            "2        3  03/30/2025          35         2           88.07           165.46   \n",
            "3        4  01/26/2025          32         1           35.71            31.58   \n",
            "4        5  04/27/2025          46         1           72.77            66.51   \n",
            "\n",
            "   Customer_ID Payment_Method  Employee_ID  Discount_CHF  Channel  \n",
            "0           35           Card            8          7.58   Online  \n",
            "1            8           Card           11         27.66  InStore  \n",
            "2           73           Card            7         10.68   Online  \n",
            "3           79           Card           15          4.13  InStore  \n",
            "4          109           Card            3          6.26  InStore  \n",
            "\n",
            "Marketing Table:\n",
            "   Campaign_ID   Channel  Start_Date    End_Date Budget_CHF  Conversions  \\\n",
            "0            1  Facebook  02/06/2025  02/13/2025  $4,775.28           83   \n",
            "1            2     Email  02/26/2025  03/07/2025  $4,777.73          195   \n",
            "2            3     Email  01/16/2025  01/30/2025  $3,080.47          154   \n",
            "3            4    Google  03/01/2025  03/29/2025  $3,343.27           16   \n",
            "4            5     Email  03/30/2025  04/24/2025  $2,518.00          183   \n",
            "\n",
            "  Revenue_Generated_CHF Discount_used_CHF  \n",
            "0            $21,876.80         $1,873.22  \n",
            "1            $11,124.46         $1,224.06  \n",
            "2            $14,407.14         $1,752.73  \n",
            "3            $11,940.86           $745.51  \n",
            "4             $6,863.47           $887.14  \n"
          ]
        }
      ]
    },
    {
      "cell_type": "markdown",
      "source": [
        "##import librabries"
      ],
      "metadata": {
        "id": "E_1i5MTQbim1"
      }
    },
    {
      "cell_type": "code",
      "source": [
        "# Core libraries for data manipulation and analysis\n",
        "import pandas as pd  # For loading and manipulating CSV data\n",
        "import numpy as np   # For numerical operations\n",
        "\n",
        "# Libraries for data visualization\n",
        "import matplotlib.pyplot as plt  # For plotting charts\n",
        "import seaborn as sns           # For enhanced visualizations\n",
        "\n",
        "# Libraries for machine learning (optional, depending on your project needs)\n",
        "from sklearn.model_selection import train_test_split  # For splitting data\n",
        "from sklearn.preprocessing import StandardScaler      # For scaling features\n",
        "from sklearn.linear_model import LinearRegression     # Example ML model\n",
        "from sklearn.metrics import mean_squared_error, r2_score  # For model evaluation\n",
        "\n",
        "# Optional: For statistical analysis\n",
        "import statsmodels.api as sm  # For detailed statistical modeling\n",
        "\n",
        "# Optional: For handling dates and times\n",
        "from datetime import datetime  # For parsing and manipulating dates"
      ],
      "metadata": {
        "id": "9VK95KVmboGg"
      },
      "execution_count": 2,
      "outputs": []
    },
    {
      "cell_type": "markdown",
      "source": [
        "##Data Cleaning and ixing the errors"
      ],
      "metadata": {
        "id": "fk-AFZRJcw8_"
      }
    },
    {
      "cell_type": "code",
      "source": [
        "# Check for missing values\n",
        "print(\"Missing Values in Each Table:\")\n",
        "print(\"Customers:\", customer_table.isnull().sum())\n",
        "print(\"Employees:\", employee_table.isnull().sum())\n",
        "print(\"Products:\", product_table.isnull().sum())\n",
        "print(\"Inventory Restock:\", inventory_restock_table.isnull().sum())\n",
        "print(\"Sales:\", sales_table.isnull().sum())\n",
        "print(\"Marketing:\", marketing_table.isnull().sum())"
      ],
      "metadata": {
        "id": "pdTkMKqBc7G1",
        "colab": {
          "base_uri": "https://localhost:8080/"
        },
        "outputId": "8f0626c2-8d1d-47f4-e439-bc45c9a2a16c"
      },
      "execution_count": 3,
      "outputs": [
        {
          "output_type": "stream",
          "name": "stdout",
          "text": [
            "Missing Values in Each Table:\n",
            "Customers: Customer_ID                   0\n",
            "Gender                        0\n",
            "Age                           0\n",
            "Town                          0\n",
            "Visit_Frequency_per_month     0\n",
            "Loyalty_Status               72\n",
            "Email_Domain                  0\n",
            "dtype: int64\n",
            "Employees: Restock_ID        0\n",
            "Product_ID        0\n",
            "Supplier          0\n",
            "Restock_Date      0\n",
            "Units_Ordered     0\n",
            "Unit_Cost_CHF     0\n",
            "Total_Cost_CHF    0\n",
            "Lead_Time_days    0\n",
            "dtype: int64\n",
            "Products: Product_ID             0\n",
            "Product_Name           0\n",
            "Category               0\n",
            "Cost_Price_CHF         0\n",
            "Selling_Price_CHF      0\n",
            "Supplier               0\n",
            "Stock_Level_initial    0\n",
            "dtype: int64\n",
            "Inventory Restock: Restock_ID        0\n",
            "Product_ID        0\n",
            "Supplier          0\n",
            "Restock_Date      0\n",
            "Units_Ordered     0\n",
            "Unit_Cost_CHF     0\n",
            "Total_Cost_CHF    0\n",
            "Lead_Time_days    0\n",
            "dtype: int64\n",
            "Sales: Sale_ID            0\n",
            "Date               0\n",
            "Product_ID         0\n",
            "Quantity           0\n",
            "Unit_Price_CHF     0\n",
            "Total_Price_CHF    0\n",
            "Customer_ID        0\n",
            "Payment_Method     0\n",
            "Employee_ID        0\n",
            "Discount_CHF       0\n",
            "Channel            0\n",
            "dtype: int64\n",
            "Marketing: Campaign_ID              0\n",
            "Channel                  0\n",
            "Start_Date               0\n",
            "End_Date                 0\n",
            "Budget_CHF               0\n",
            "Conversions              0\n",
            "Revenue_Generated_CHF    0\n",
            "Discount_used_CHF        0\n",
            "dtype: int64\n"
          ]
        }
      ]
    },
    {
      "cell_type": "markdown",
      "source": [
        "##EDA"
      ],
      "metadata": {
        "id": "d53uYx1udG6s"
      }
    },
    {
      "cell_type": "code",
      "source": [
        "# Convert date columns to datetime\n",
        "sales_table['Date'] = pd.to_datetime(sales_table['Date'])\n",
        "inventory_restock_table['Restock_Date'] = pd.to_datetime(inventory_restock_table['Restock_Date'])\n",
        "marketing_table['Start_Date'] = pd.to_datetime(marketing_table['Start_Date'])\n",
        "marketing_table['End_Date'] = pd.to_datetime(marketing_table['End_Date'])\n",
        "\n",
        "# Ensure ID columns are integers\n",
        "customer_table['Customer_ID'] = customer_table['Customer_ID'].astype(int)\n",
        "product_table['Product_ID'] = product_table['Product_ID'].astype(int)\n",
        "sales_table['Sale_ID'] = sales_table['Sale_ID'].astype(int)\n",
        "sales_table['Product_ID'] = sales_table['Product_ID'].astype(int)\n",
        "sales_table['Customer_ID'] = sales_table['Customer_ID'].astype(int)\n",
        "sales_table['Employee_ID'] = sales_table['Employee_ID'].astype(int)\n",
        "inventory_restock_table['Restock_ID'] = inventory_restock_table['Restock_ID'].astype(int)\n",
        "inventory_restock_table['Product_ID'] = inventory_restock_table['Product_ID'].astype(int)\n",
        "marketing_table['Campaign_ID'] = marketing_table['Campaign_ID'].astype(int)\n",
        "\n",
        "# Verify data types\n",
        "print(\"Sales Table Data Types:\")\n",
        "print(sales_table.dtypes)"
      ],
      "metadata": {
        "id": "AaAd4CpcdLk-",
        "colab": {
          "base_uri": "https://localhost:8080/"
        },
        "outputId": "cc201834-e85e-43bd-d2f8-694357522e4b"
      },
      "execution_count": 4,
      "outputs": [
        {
          "output_type": "stream",
          "name": "stdout",
          "text": [
            "Sales Table Data Types:\n",
            "Sale_ID                     int64\n",
            "Date               datetime64[ns]\n",
            "Product_ID                  int64\n",
            "Quantity                    int64\n",
            "Unit_Price_CHF            float64\n",
            "Total_Price_CHF           float64\n",
            "Customer_ID                 int64\n",
            "Payment_Method             object\n",
            "Employee_ID                 int64\n",
            "Discount_CHF              float64\n",
            "Channel                    object\n",
            "dtype: object\n"
          ]
        }
      ]
    },
    {
      "cell_type": "markdown",
      "source": [
        "##Informtation"
      ],
      "metadata": {
        "id": "-mhY7Z0-fr46"
      }
    },
    {
      "cell_type": "code",
      "source": [
        "# Check basic info\n",
        "print(\"Customers Table Info:\")\n",
        "print(customer_table.info())\n",
        "print(\"\\nEmployees Table Info:\")\n",
        "print(employee_table.info())\n",
        "print(\"\\nProducts Table Info:\")\n",
        "print(product_table.info())\n",
        "print(\"\\nInventory Restock Table Info:\")\n",
        "print(inventory_restock_table.info())\n",
        "print(\"\\nSales Table Info:\")\n",
        "print(sales_table.info())\n",
        "print(\"\\nMarketing Table Info:\")\n",
        "print(marketing_table.info())\n"
      ],
      "metadata": {
        "id": "9jE8WZoCfzfw",
        "colab": {
          "base_uri": "https://localhost:8080/"
        },
        "outputId": "3ebb38d0-4ece-4dae-b9f2-f3616407c34b"
      },
      "execution_count": 5,
      "outputs": [
        {
          "output_type": "stream",
          "name": "stdout",
          "text": [
            "Customers Table Info:\n",
            "<class 'pandas.core.frame.DataFrame'>\n",
            "RangeIndex: 120 entries, 0 to 119\n",
            "Data columns (total 7 columns):\n",
            " #   Column                     Non-Null Count  Dtype \n",
            "---  ------                     --------------  ----- \n",
            " 0   Customer_ID                120 non-null    int64 \n",
            " 1   Gender                     120 non-null    object\n",
            " 2   Age                        120 non-null    int64 \n",
            " 3   Town                       120 non-null    object\n",
            " 4   Visit_Frequency_per_month  120 non-null    int64 \n",
            " 5   Loyalty_Status             48 non-null     object\n",
            " 6   Email_Domain               120 non-null    object\n",
            "dtypes: int64(3), object(4)\n",
            "memory usage: 6.7+ KB\n",
            "None\n",
            "\n",
            "Employees Table Info:\n",
            "<class 'pandas.core.frame.DataFrame'>\n",
            "RangeIndex: 99 entries, 0 to 98\n",
            "Data columns (total 8 columns):\n",
            " #   Column          Non-Null Count  Dtype  \n",
            "---  ------          --------------  -----  \n",
            " 0   Restock_ID      99 non-null     int64  \n",
            " 1   Product_ID      99 non-null     int64  \n",
            " 2   Supplier        99 non-null     object \n",
            " 3   Restock_Date    99 non-null     object \n",
            " 4   Units_Ordered   99 non-null     int64  \n",
            " 5   Unit_Cost_CHF   99 non-null     float64\n",
            " 6   Total_Cost_CHF  99 non-null     object \n",
            " 7   Lead_Time_days  99 non-null     int64  \n",
            "dtypes: float64(1), int64(4), object(3)\n",
            "memory usage: 6.3+ KB\n",
            "None\n",
            "\n",
            "Products Table Info:\n",
            "<class 'pandas.core.frame.DataFrame'>\n",
            "RangeIndex: 50 entries, 0 to 49\n",
            "Data columns (total 7 columns):\n",
            " #   Column               Non-Null Count  Dtype  \n",
            "---  ------               --------------  -----  \n",
            " 0   Product_ID           50 non-null     int64  \n",
            " 1   Product_Name         50 non-null     object \n",
            " 2   Category             50 non-null     object \n",
            " 3   Cost_Price_CHF       50 non-null     float64\n",
            " 4   Selling_Price_CHF    50 non-null     float64\n",
            " 5   Supplier             50 non-null     object \n",
            " 6   Stock_Level_initial  50 non-null     int64  \n",
            "dtypes: float64(2), int64(2), object(3)\n",
            "memory usage: 2.9+ KB\n",
            "None\n",
            "\n",
            "Inventory Restock Table Info:\n",
            "<class 'pandas.core.frame.DataFrame'>\n",
            "RangeIndex: 99 entries, 0 to 98\n",
            "Data columns (total 8 columns):\n",
            " #   Column          Non-Null Count  Dtype         \n",
            "---  ------          --------------  -----         \n",
            " 0   Restock_ID      99 non-null     int64         \n",
            " 1   Product_ID      99 non-null     int64         \n",
            " 2   Supplier        99 non-null     object        \n",
            " 3   Restock_Date    99 non-null     datetime64[ns]\n",
            " 4   Units_Ordered   99 non-null     int64         \n",
            " 5   Unit_Cost_CHF   99 non-null     float64       \n",
            " 6   Total_Cost_CHF  99 non-null     object        \n",
            " 7   Lead_Time_days  99 non-null     int64         \n",
            "dtypes: datetime64[ns](1), float64(1), int64(4), object(2)\n",
            "memory usage: 6.3+ KB\n",
            "None\n",
            "\n",
            "Sales Table Info:\n",
            "<class 'pandas.core.frame.DataFrame'>\n",
            "RangeIndex: 82 entries, 0 to 81\n",
            "Data columns (total 11 columns):\n",
            " #   Column           Non-Null Count  Dtype         \n",
            "---  ------           --------------  -----         \n",
            " 0   Sale_ID          82 non-null     int64         \n",
            " 1   Date             82 non-null     datetime64[ns]\n",
            " 2   Product_ID       82 non-null     int64         \n",
            " 3   Quantity         82 non-null     int64         \n",
            " 4   Unit_Price_CHF   82 non-null     float64       \n",
            " 5   Total_Price_CHF  82 non-null     float64       \n",
            " 6   Customer_ID      82 non-null     int64         \n",
            " 7   Payment_Method   82 non-null     object        \n",
            " 8   Employee_ID      82 non-null     int64         \n",
            " 9   Discount_CHF     82 non-null     float64       \n",
            " 10  Channel          82 non-null     object        \n",
            "dtypes: datetime64[ns](1), float64(3), int64(5), object(2)\n",
            "memory usage: 7.2+ KB\n",
            "None\n",
            "\n",
            "Marketing Table Info:\n",
            "<class 'pandas.core.frame.DataFrame'>\n",
            "RangeIndex: 10 entries, 0 to 9\n",
            "Data columns (total 8 columns):\n",
            " #   Column                 Non-Null Count  Dtype         \n",
            "---  ------                 --------------  -----         \n",
            " 0   Campaign_ID            10 non-null     int64         \n",
            " 1   Channel                10 non-null     object        \n",
            " 2   Start_Date             10 non-null     datetime64[ns]\n",
            " 3   End_Date               10 non-null     datetime64[ns]\n",
            " 4   Budget_CHF             10 non-null     object        \n",
            " 5   Conversions            10 non-null     int64         \n",
            " 6   Revenue_Generated_CHF  10 non-null     object        \n",
            " 7   Discount_used_CHF      10 non-null     object        \n",
            "dtypes: datetime64[ns](2), int64(2), object(4)\n",
            "memory usage: 772.0+ bytes\n",
            "None\n"
          ]
        }
      ]
    },
    {
      "cell_type": "markdown",
      "source": [
        "##INCREASE SALES"
      ],
      "metadata": {
        "id": "9_5ZWFMuhlXz"
      }
    },
    {
      "cell_type": "code",
      "source": [
        "#Top 10\n",
        "plt.figure(figsize=(10,5))\n",
        "sns.barplot(x=top_products.values, y=top_products.index, palette=\"viridis\")\n",
        "plt.title(\"Top 10 Best-Selling Products\", fontsize=14, weight='bold')\n",
        "plt.xlabel(\"Total Sales (CHF)\")\n",
        "plt.ylabel(\"Product ID\")\n",
        "plt.tight_layout()\n",
        "plt.show()\n"
      ],
      "metadata": {
        "id": "2vbizjzEhsGU",
        "colab": {
          "base_uri": "https://localhost:8080/",
          "height": 228
        },
        "outputId": "104dc18d-a3a2-49b4-8e9c-1be9ba153582"
      },
      "execution_count": 6,
      "outputs": [
        {
          "output_type": "error",
          "ename": "NameError",
          "evalue": "name 'top_products' is not defined",
          "traceback": [
            "\u001b[0;31m---------------------------------------------------------------------------\u001b[0m",
            "\u001b[0;31mNameError\u001b[0m                                 Traceback (most recent call last)",
            "\u001b[0;32m/tmp/ipython-input-4188776048.py\u001b[0m in \u001b[0;36m<cell line: 0>\u001b[0;34m()\u001b[0m\n\u001b[1;32m      1\u001b[0m \u001b[0;31m#Top 10\u001b[0m\u001b[0;34m\u001b[0m\u001b[0;34m\u001b[0m\u001b[0m\n\u001b[1;32m      2\u001b[0m \u001b[0mplt\u001b[0m\u001b[0;34m.\u001b[0m\u001b[0mfigure\u001b[0m\u001b[0;34m(\u001b[0m\u001b[0mfigsize\u001b[0m\u001b[0;34m=\u001b[0m\u001b[0;34m(\u001b[0m\u001b[0;36m10\u001b[0m\u001b[0;34m,\u001b[0m\u001b[0;36m5\u001b[0m\u001b[0;34m)\u001b[0m\u001b[0;34m)\u001b[0m\u001b[0;34m\u001b[0m\u001b[0;34m\u001b[0m\u001b[0m\n\u001b[0;32m----> 3\u001b[0;31m \u001b[0msns\u001b[0m\u001b[0;34m.\u001b[0m\u001b[0mbarplot\u001b[0m\u001b[0;34m(\u001b[0m\u001b[0mx\u001b[0m\u001b[0;34m=\u001b[0m\u001b[0mtop_products\u001b[0m\u001b[0;34m.\u001b[0m\u001b[0mvalues\u001b[0m\u001b[0;34m,\u001b[0m \u001b[0my\u001b[0m\u001b[0;34m=\u001b[0m\u001b[0mtop_products\u001b[0m\u001b[0;34m.\u001b[0m\u001b[0mindex\u001b[0m\u001b[0;34m,\u001b[0m \u001b[0mpalette\u001b[0m\u001b[0;34m=\u001b[0m\u001b[0;34m\"viridis\"\u001b[0m\u001b[0;34m)\u001b[0m\u001b[0;34m\u001b[0m\u001b[0;34m\u001b[0m\u001b[0m\n\u001b[0m\u001b[1;32m      4\u001b[0m \u001b[0mplt\u001b[0m\u001b[0;34m.\u001b[0m\u001b[0mtitle\u001b[0m\u001b[0;34m(\u001b[0m\u001b[0;34m\"Top 10 Best-Selling Products\"\u001b[0m\u001b[0;34m,\u001b[0m \u001b[0mfontsize\u001b[0m\u001b[0;34m=\u001b[0m\u001b[0;36m14\u001b[0m\u001b[0;34m,\u001b[0m \u001b[0mweight\u001b[0m\u001b[0;34m=\u001b[0m\u001b[0;34m'bold'\u001b[0m\u001b[0;34m)\u001b[0m\u001b[0;34m\u001b[0m\u001b[0;34m\u001b[0m\u001b[0m\n\u001b[1;32m      5\u001b[0m \u001b[0mplt\u001b[0m\u001b[0;34m.\u001b[0m\u001b[0mxlabel\u001b[0m\u001b[0;34m(\u001b[0m\u001b[0;34m\"Total Sales (CHF)\"\u001b[0m\u001b[0;34m)\u001b[0m\u001b[0;34m\u001b[0m\u001b[0;34m\u001b[0m\u001b[0m\n",
            "\u001b[0;31mNameError\u001b[0m: name 'top_products' is not defined"
          ]
        },
        {
          "output_type": "display_data",
          "data": {
            "text/plain": [
              "<Figure size 1000x500 with 0 Axes>"
            ]
          },
          "metadata": {}
        }
      ]
    },
    {
      "cell_type": "code",
      "source": [
        "import pandas as pd\n",
        "\n",
        "# Load the Sales and Products tables (adjust file paths as needed)\n",
        "sales_table = pd.read_csv('/content/sales_table-sheet1-sourcetable.csv')\n",
        "product_table = pd.read_csv('/content/product_table-sheet1-sourcetable.csv')\n",
        "\n",
        "# Filter out returns (negative quantities) and group by Product_ID to sum quantities\n",
        "sales_positive = sales_table[sales_table['Quantity'] > 0]\n",
        "product_sales = sales_positive.groupby('Product_ID')['Quantity'].sum().reset_index()\n",
        "\n",
        "# Merge with Products table to get product details\n",
        "product_sales = product_sales.merge(product_table[['Product_ID', 'Product_Name', 'Category', 'Selling_Price_CHF']],\n",
        "                                  on='Product_ID', how='left')\n",
        "\n",
        "# Sort by total quantity sold in descending order and get top 10\n",
        "top_10_products = product_sales.sort_values(by='Quantity', ascending=False).head(10)\n",
        "\n",
        "# Add total revenue (Quantity * Selling_Price_CHF - Discount_CHF) for context\n",
        "top_10_products = top_10_products.merge(\n",
        "    sales_positive.groupby('Product_ID')[['Total_Price_CHF']].sum().reset_index(),\n",
        "    on='Product_ID', how='left'\n",
        ")\n",
        "\n",
        "# Rename columns for clarity\n",
        "top_10_products.columns = ['Product_ID', 'Total_Units_Sold', 'Product_Name', 'Category',\n",
        "                          'Selling_Price_CHF', 'Total_Revenue_CHF']\n",
        "\n",
        "# Display the result\n",
        "print(\"Top 10 Products Sold:\")\n",
        "print(top_10_products[['Product_ID', 'Product_Name', 'Category', 'Total_Units_Sold', 'Total_Revenue_CHF']])"
      ],
      "metadata": {
        "id": "7gNhdCOwibV2"
      },
      "execution_count": null,
      "outputs": []
    },
    {
      "cell_type": "code",
      "source": [
        "import pandas as pd\n",
        "\n",
        "# Load the Sales and Products tables (adjust file paths as needed)\n",
        "sales_table = pd.read_csv('/content/sales_table-sheet1-sourcetable.csv')\n",
        "product_table = pd.read_csv('/content/product_table-sheet1-sourcetable.csv')\n",
        "\n",
        "# Filter out returns (negative quantities) and group by Product_ID to sum quantities\n",
        "sales_positive = sales_table[sales_table['Quantity'] > 0]\n",
        "product_sales = sales_positive.groupby('Product_ID')['Quantity'].sum().reset_index()\n",
        "\n",
        "# Merge with Products table to get product details\n",
        "product_sales = product_sales.merge(product_table[['Product_ID', 'Product_Name', 'Category']],\n",
        "                                  on='Product_ID', how='left')\n",
        "\n",
        "# Sort by total quantity sold and get top 10\n",
        "top_10_products = product_sales.sort_values(by='Quantity', ascending=False).head(10)\n",
        "\n",
        "# Rename columns for clarity\n",
        "top_10_products.columns = ['Product_ID', 'Total_Units_Sold', 'Product_Name', 'Category']\n",
        "\n",
        "# Print the data for reference\n",
        "print(\"Top 10 Products Sold:\")\n",
        "print(top_10_products[['Product_ID', 'Product_Name', 'Category', 'Total_Units_Sold']])"
      ],
      "metadata": {
        "id": "44SslWK1ipTN"
      },
      "execution_count": null,
      "outputs": []
    },
    {
      "cell_type": "code",
      "source": [
        "import pandas as pd\n",
        "\n",
        "# Load the Sales and Products tables (adjust file paths as needed)\n",
        "sales_table = pd.read_csv('/content/sales_table-sheet1-sourcetable.csv')\n",
        "product_table = pd.read_csv('/content/product_table-sheet1-sourcetable.csv')\n",
        "\n",
        "# Filter out returns (negative quantities) and group by Product_ID to sum quantities\n",
        "sales_positive = sales_table[sales_table['Quantity'] > 0]\n",
        "product_sales = sales_positive.groupby('Product_ID')['Quantity'].sum().reset_index()\n",
        "\n",
        "# Merge with Products table to get product details\n",
        "product_sales = product_sales.merge(product_table[['Product_ID', 'Product_Name', 'Category', 'Selling_Price_CHF']],\n",
        "                                  on='Product_ID', how='left')\n",
        "\n",
        "# Sort by total quantity sold in descending order and get top 10\n",
        "top_10_products = product_sales.sort_values(by='Quantity', ascending=False).head(10)\n",
        "\n",
        "# Add total revenue (Quantity * Selling_Price_CHF - Discount_CHF) for context\n",
        "top_10_products = top_10_products.merge(\n",
        "    sales_positive.groupby('Product_ID')[['Total_Price_CHF']].sum().reset_index(),\n",
        "    on='Product_ID', how='left'\n",
        ")\n",
        "\n",
        "# Rename columns for clarity\n",
        "top_10_products.columns = ['Product_ID', 'Total_Units_Sold', 'Product_Name', 'Category',\n",
        "                          'Selling_Price_CHF', 'Total_Revenue_CHF']\n",
        "\n",
        "# Display the result\n",
        "print(\"Top 10 Products Sold:\")\n",
        "print(top_10_products[['Product_ID', 'Product_Name', 'Category', 'Total_Units_Sold', 'Total_Revenue_CHF']])"
      ],
      "metadata": {
        "id": "N2wuipCki3a8"
      },
      "execution_count": null,
      "outputs": []
    },
    {
      "cell_type": "code",
      "source": [
        "import pandas as pd\n",
        "\n",
        "# Load the Sales and Products tables (adjust file paths as needed)\n",
        "sales_table = pd.read_csv('/content/sales_table-sheet1-sourcetable.csv')\n",
        "product_table = pd.read_csv('/content/product_table-sheet1-sourcetable.csv')\n",
        "\n",
        "# Filter out returns (negative quantities) and group by Product_ID to sum quantities\n",
        "sales_positive = sales_table[sales_table['Quantity'] > 0]\n",
        "product_sales = sales_positive.groupby('Product_ID')['Quantity'].sum().reset_index()\n",
        "\n",
        "# Merge with Products table to get product details\n",
        "product_sales = product_sales.merge(product_table[['Product_ID', 'Product_Name', 'Category', 'Selling_Price_CHF']],\n",
        "                                  on='Product_ID', how='left')\n",
        "\n",
        "# Sort by total quantity sold in descending order and get top 10\n",
        "top_10_products = product_sales.sort_values(by='Quantity', ascending=False).head(10)\n",
        "\n",
        "# Add total revenue (Quantity * Selling_Price_CHF - Discount_CHF) for context\n",
        "top_10_products = top_10_products.merge(\n",
        "    sales_positive.groupby('Product_ID')[['Total_Price_CHF']].sum().reset_index(),\n",
        "    on='Product_ID', how='left'\n",
        ")\n",
        "\n",
        "# Rename columns for clarity\n",
        "top_10_products.columns = ['Product_ID', 'Total_Units_Sold', 'Product_Name', 'Category',\n",
        "                          'Selling_Price_CHF', 'Total_Revenue_CHF']\n",
        "\n",
        "# Display the result\n",
        "print(\"Top 10 Products Sold:\")\n",
        "print(top_10_products[['Product_ID', 'Product_Name', 'Category', 'Total_Units_Sold', 'Total_Revenue_CHF']])"
      ],
      "metadata": {
        "id": "HtGO6BTzjfBu"
      },
      "execution_count": null,
      "outputs": []
    },
    {
      "cell_type": "code",
      "source": [
        "import pandas as pd\n",
        "import matplotlib.pyplot as plt\n",
        "import seaborn as sns\n",
        "\n",
        "# Load the Sales and Products tables\n",
        "sales_table = pd.read_csv('/content/sales_table-sheet1-sourcetable.csv')\n",
        "product_table = pd.read_csv('/content/product_table-sheet1-sourcetable.csv')\n",
        "\n",
        "# Filter out returns (negative quantities)\n",
        "sales_positive = sales_table[sales_table['Quantity'] > 0]\n",
        "\n",
        "# Group by Product_ID and sum total quantity sold\n",
        "product_sales = sales_positive.groupby('Product_ID')['Quantity'].sum().reset_index()\n",
        "\n",
        "# Merge with product details\n",
        "product_sales = product_sales.merge(\n",
        "    product_table[['Product_ID', 'Product_Name', 'Category', 'Selling_Price_CHF']],\n",
        "    on='Product_ID', how='left'\n",
        ")\n",
        "\n",
        "# Sort by total quantity sold and get top 10\n",
        "top_10_products = product_sales.sort_values(by='Quantity', ascending=False).head(10)\n",
        "\n",
        "# Add total revenue for context\n",
        "top_10_products = top_10_products.merge(\n",
        "    sales_positive.groupby('Product_ID')[['Total_Price_CHF']].sum().reset_index(),\n",
        "    on='Product_ID', how='left'\n",
        ")\n",
        "\n",
        "# Rename columns for clarity\n",
        "top_10_products.columns = [\n",
        "    'Product_ID', 'Total_Units_Sold', 'Product_Name', 'Category',\n",
        "    'Selling_Price_CHF', 'Total_Revenue_CHF'\n",
        "]\n",
        "\n",
        "# Display results\n",
        "print(\"Top 10 Products Sold:\")\n",
        "print(top_10_products)\n",
        "\n",
        "# =========================\n",
        "# 📊 Visualization Section\n",
        "# =========================\n",
        "\n",
        "# Set Seaborn style\n",
        "sns.set(style=\"whitegrid\", palette=\"viridis\")\n",
        "\n",
        "# Create bar chart\n",
        "plt.figure(figsize=(10,6))\n",
        "sns.barplot(\n",
        "    data=top_10_products,\n",
        "    x='Total_Revenue_CHF',\n",
        "    y='Product_Name',\n",
        "    hue='Category',\n",
        "    dodge=False\n",
        ")\n",
        "\n",
        "# Chart aesthetics\n",
        "plt.title(\"Top 10 Best-Selling Products by Revenue (CHF)\", fontsize=15, weight='bold')\n",
        "plt.xlabel(\"Total Revenue (CHF)\", fontsize=12)\n",
        "plt.ylabel(\"Product Name\", fontsize=12)\n",
        "plt.legend(title=\"Category\")\n",
        "plt.tight_layout()\n",
        "\n",
        "# Show chart\n",
        "plt.show()\n"
      ],
      "metadata": {
        "id": "q94gk7_cjvqa"
      },
      "execution_count": null,
      "outputs": []
    },
    {
      "cell_type": "code",
      "source": [
        "# Reorder days for clarity\n",
        "sales_by_day = sales_by_day.reindex(['Monday','Tuesday','Wednesday','Thursday','Friday','Saturday','Sunday'])\n",
        "\n",
        "plt.figure(figsize=(8,5))\n",
        "sns.barplot(x=sales_by_day.index, y=sales_by_day.values, palette=\"rocket\")\n",
        "plt.title(\"Sales by Day of the Week (CHF)\", fontsize=14, weight='bold')\n",
        "plt.xlabel(\"Day of the Week\")\n",
        "plt.ylabel(\"Total Sales (CHF)\")\n",
        "plt.tight_layout()\n",
        "plt.show()\n"
      ],
      "metadata": {
        "id": "GL_KHbI0kRIc"
      },
      "execution_count": null,
      "outputs": []
    },
    {
      "cell_type": "code",
      "source": [
        "html_content = \"\"\"\n",
        "<!DOCTYPE html>\n",
        "<html>\n",
        "<head>\n",
        "    <title>Sales by Day of Week Bar Chart</title>\n",
        "    <script src=\"https://cdn.jsdelivr.net/npm/chart.js\"></script>\n",
        "</head>\n",
        "<body>\n",
        "    <canvas id=\"myChart\" width=\"800\" height=\"400\"></canvas>\n",
        "    <script>\n",
        "    const ctx = document.getElementById('myChart').getContext('2d');\n",
        "    const myChart = new Chart(ctx, {\n",
        "        type: 'bar',\n",
        "        data: {\n",
        "            labels: [\"Monday\", \"Tuesday\", \"Wednesday\", \"Thursday\", \"Friday\", \"Saturday\", \"Sunday\"],\n",
        "            datasets: [{\n",
        "                label: 'Total Sales (CHF)',\n",
        "                data: [2500.45, 2300.12, 2450.78, 2600.34, 3000.56, 4500.89, 4200.67],\n",
        "                backgroundColor: [\n",
        "                    '#1E90FF', '#32CD32', '#FF69B4', '#FFD700', '#FF4500', '#6A5ACD', '#20B2AA'\n",
        "                ],\n",
        "                borderColor: [\n",
        "                    '#104E8B', '#228B22', '#C71585', '#CDAD00', '#B22222', '#483D8B', '#008B8B'\n",
        "                ],\n",
        "                borderWidth: 1\n",
        "            }]\n",
        "        },\n",
        "        options: {\n",
        "            scales: {\n",
        "                y: { beginAtZero: true, title: { display: true, text: 'Total Sales (CHF)' } },\n",
        "                x: { title: { display: true, text: 'Day of Week' } }\n",
        "            },\n",
        "            plugins: {\n",
        "                legend: { display: false },\n",
        "                title: { display: true, text: 'Sales by Day of the Week' },\n",
        "                tooltip: {\n",
        "                    callbacks: {\n",
        "                        label: function(context) { return context.dataset.label + ': ' + context.raw.toFixed(2) + ' CHF'; }\n",
        "                    }\n"
      ],
      "metadata": {
        "id": "JPI6_DUNklE8"
      },
      "execution_count": null,
      "outputs": []
    },
    {
      "cell_type": "code",
      "source": [
        "import pandas as pd\n",
        "import seaborn as sns\n",
        "import matplotlib.pyplot as plt\n",
        "\n",
        "# Load the Sales table (adjust file path as needed)\n",
        "sales_table = pd.read_csv('/content/sales_table-sheet1-sourcetable.csv')\n",
        "\n",
        "# Convert Date to datetime\n",
        "sales_table['Date'] = pd.to_datetime(sales_table['Date'])\n",
        "\n",
        "# Add day of week column\n",
        "sales_table['Day_of_Week'] = sales_table['Date'].dt.day_name()\n",
        "\n",
        "# Filter out returns (negative quantities) for positive sales only\n",
        "sales_positive = sales_table[sales_table['Quantity'] > 0]\n",
        "\n",
        "# Aggregate sales by day of week (sum Total_Price_CHF)\n",
        "sales_by_day = sales_positive.groupby('Day_of_Week')['Total_Price_CHF'].sum().reindex(\n",
        "    ['Monday', 'Tuesday', 'Wednesday', 'Thursday', 'Friday', 'Saturday', 'Sunday']\n",
        ").reset_index()\n",
        "\n",
        "# Rename columns for clarity\n",
        "sales_by_day.columns = ['Day_of_Week', 'Total_Sales_CHF']\n",
        "\n",
        "# Display the result\n",
        "print(\"Sales by Day of the Week:\")\n",
        "print(sales_by_day)\n",
        "\n",
        "# Create a vertical bar plot with Seaborn\n",
        "plt.figure(figsize=(10, 6))\n",
        "sns.barplot(data=sales_by_day, x='Day_of_Week', y='Total_Sales_CHF', palette='Set2')\n",
        "plt.title('Sales by Day of the Week')\n",
        "plt.xlabel('Day of Week')\n",
        "plt.ylabel('Total Sales (CHF)')\n",
        "plt.xticks(rotation=45)\n",
        "plt.tight_layout()\n",
        "plt.show()"
      ],
      "metadata": {
        "id": "cqaqinYUktMN"
      },
      "execution_count": null,
      "outputs": []
    },
    {
      "cell_type": "code",
      "source": [
        "import pandas as pd\n",
        "import seaborn as sns\n",
        "import matplotlib.pyplot as plt\n",
        "\n",
        "# Load the Sales table (adjust file path as needed)\n",
        "sales_table = pd.read_csv('/content/sales_table-sheet1-sourcetable.csv')\n",
        "\n",
        "# Convert Date to datetime\n",
        "sales_table['Date'] = pd.to_datetime(sales_table['Date'])\n",
        "\n",
        "# Add day of week column\n",
        "sales_table['Day_of_Week'] = sales_table['Date'].dt.day_name()\n",
        "\n",
        "# Filter out returns (negative quantities) for positive sales only\n",
        "sales_positive = sales_table[sales_table['Quantity'] > 0]\n",
        "\n",
        "# Aggregate sales by day of week (sum Total_Price_CHF)\n",
        "sales_by_day = sales_positive.groupby('Day_of_Week')['Total_Price_CHF'].sum().reindex(\n",
        "    ['Monday', 'Tuesday', 'Wednesday', 'Thursday', 'Friday', 'Saturday', 'Sunday']\n",
        ").reset_index()\n",
        "\n",
        "# Rename columns for clarity\n",
        "sales_by_day.columns = ['Day_of_Week', 'Total_Sales_CHF']\n",
        "\n",
        "# Display the result\n",
        "print(\"Sales by Day of the Week:\")\n",
        "print(sales_by_day)\n",
        "\n",
        "# Create a vertical bar plot with Seaborn\n",
        "plt.figure(figsize=(10, 6))\n",
        "sns.barplot(data=sales_by_day, x='Day_of_Week', y='Total_Sales_CHF', palette='Set2')\n",
        "plt.title('Sales by Day of the Week')\n",
        "plt.xlabel('Day of Week')\n",
        "plt.ylabel('Total Sales (CHF)')\n",
        "plt.xticks(rotation=45)\n",
        "plt.tight_layout()\n",
        "plt.show()"
      ],
      "metadata": {
        "id": "u2FLltNMnGNp"
      },
      "execution_count": null,
      "outputs": []
    },
    {
      "cell_type": "code",
      "source": [
        "avg_roi = (\n",
        "    marketing_roi.groupby('Channel')['ROI']\n",
        "    .mean()\n",
        "    .sort_values(ascending=False)\n",
        ")\n",
        "\n",
        "plt.figure(figsize=(8,5))\n",
        "sns.barplot(x=avg_roi.values, y=avg_roi.index, palette=\"crest\")\n",
        "plt.title(\"Average ROI by Marketing Channel\", fontsize=14, weight='bold')\n",
        "plt.xlabel(\"Return on Investment (ROI)\")\n",
        "plt.ylabel(\"Marketing Channel\")\n",
        "plt.tight_layout()\n",
        "plt.show()\n"
      ],
      "metadata": {
        "id": "95egG3Y0nRRE"
      },
      "execution_count": null,
      "outputs": []
    },
    {
      "cell_type": "code",
      "source": [
        "import pandas as pd\n",
        "import seaborn as sns\n",
        "import matplotlib.pyplot as plt\n",
        "\n",
        "# Load the Marketing table (adjust file path as needed)\n",
        "marketing_table = pd.read_csv('/content/marketing_table-sheet1-sourcetable.csv')\n",
        "\n",
        "# Clean and convert currency columns to numeric\n",
        "for col in ['Budget_CHF', 'Revenue_Generated_CHF', 'Discount_used_CHF']:\n",
        "    marketing_table[col] = marketing_table[col].astype(str).str.replace('[$,]', '', regex=True)\n",
        "    marketing_table[col] = pd.to_numeric(marketing_table[col])\n",
        "\n",
        "\n",
        "# Calculate ROI for each campaign\n",
        "marketing_table['ROI'] = (marketing_table['Revenue_Generated_CHF'] - marketing_table['Budget_CHF']) / marketing_table['Budget_CHF']\n",
        "\n",
        "# Group by Channel and calculate mean ROI, sorted descending\n",
        "avg_roi = (\n",
        "    marketing_table.groupby('Channel')['ROI']\n",
        "    .mean()\n",
        "    .sort_values(ascending=False)\n",
        "    .reset_index()\n",
        ")\n",
        "\n",
        "# Display the result\n",
        "print(\"Average ROI by Marketing Channel:\")\n",
        "print(avg_roi)\n",
        "\n",
        "# Create a horizontal bar plot with Seaborn\n",
        "plt.figure(figsize=(8, 5))\n",
        "sns.barplot(x=avg_roi['ROI'], y=avg_roi['Channel'], palette=\"crest\")\n",
        "plt.title(\"Average ROI by Marketing Channel\", fontsize=14, weight='bold')\n",
        "plt.xlabel(\"Return on Investment (ROI)\")\n",
        "plt.ylabel(\"Marketing Channel\")\n",
        "plt.tight_layout()\n",
        "plt.show()"
      ],
      "metadata": {
        "id": "Gtp_0JQHnkgh"
      },
      "execution_count": null,
      "outputs": []
    },
    {
      "cell_type": "markdown",
      "source": [
        "##Check for discount"
      ],
      "metadata": {
        "id": "oynKNKXUo29t"
      }
    },
    {
      "cell_type": "code",
      "source": [
        "# Calculate total discount per product\n",
        "loss_due_to_discounts = sales_table.groupby('Product_ID')['Discount_CHF'].sum().reset_index()\n",
        "\n",
        "# Merge with product info\n",
        "loss_due_to_discounts = loss_due_to_discounts.merge(\n",
        "    product_table[['Product_ID', 'Product_Name', 'Category']],\n",
        "    on='Product_ID', how='left'\n",
        ")\n",
        "\n",
        "# Sort by discount value descending (biggest losses first)\n",
        "loss_due_to_discounts = loss_due_to_discounts.sort_values(by='Discount_CHF', ascending=False).head(10)\n",
        "\n",
        "# Show the top 10 loss-making products due to discounts\n",
        "print(\"Top 10 Products with Highest Discount Losses:\")\n",
        "print(loss_due_to_discounts)\n",
        "\n",
        "# Optional: visualize with bar chart\n",
        "import matplotlib.pyplot as plt\n",
        "\n",
        "plt.figure(figsize=(10,6))\n",
        "plt.barh(loss_due_to_discounts['Product_Name'], loss_due_to_discounts['Discount_CHF'], color='orange')\n",
        "plt.xlabel('Total Discount (CHF)')\n",
        "plt.ylabel('Product Name')\n",
        "plt.title('Top 10 Products Losing Money Due to Discounts')\n",
        "plt.gca().invert_yaxis()\n",
        "plt.show()\n"
      ],
      "metadata": {
        "id": "SNeOjH3voYqf"
      },
      "execution_count": null,
      "outputs": []
    },
    {
      "cell_type": "markdown",
      "source": [
        "##Unprofitable prducts"
      ],
      "metadata": {
        "id": "5whgVvyep0Qt"
      }
    },
    {
      "cell_type": "code",
      "source": [
        "# Aggregate unprofitable sales by product\n",
        "unprofitable_by_product = sales_with_products[sales_with_products['Profit_CHF'] <= 0].groupby('Product_Name')['Profit_CHF'].sum().reset_index().sort_values('Profit_CHF').head(10)\n",
        "\n",
        "# Seaborn bar plot\n",
        "plt.figure(figsize=(10, 6))\n",
        "sns.barplot(x='Profit_CHF', y='Product_Name', data=unprofitable_by_product, palette='Reds_r')\n",
        "plt.title('Top 10 Unprofitable Products by Total Profit (CHF)', fontsize=14, weight='bold')\n",
        "plt.xlabel('Total Profit (CHF)')\n",
        "plt.ylabel('Product Name')\n",
        "plt.tight_layout()\n",
        "plt.show()"
      ],
      "metadata": {
        "id": "U_NHnJ4pp33g"
      },
      "execution_count": null,
      "outputs": []
    },
    {
      "cell_type": "code",
      "source": [
        "# Seaborn bar plot for overstocked products\n",
        "plt.figure(figsize=(10, 6))\n",
        "sns.barplot(x='Stock_to_Sales_Ratio', y='Product_Name', data=overstocked_products.head(10), palette='Oranges_r')\n",
        "plt.title('Top 10 Overstocked Products by Stock-to-Sales Ratio', fontsize=14, weight='bold')\n",
        "plt.xlabel('Stock-to-Sales Ratio')\n",
        "plt.ylabel('Product Name')\n",
        "plt.tight_layout()\n",
        "plt.show()"
      ],
      "metadata": {
        "id": "YdL5aPdXqHoc"
      },
      "execution_count": null,
      "outputs": []
    },
    {
      "cell_type": "code",
      "metadata": {
        "id": "b623ab34"
      },
      "source": [
        "# Calculate total units sold per product\n",
        "product_sales_quantity = sales_table.groupby('Product_ID')['Quantity'].sum().reset_index()\n",
        "product_sales_quantity.rename(columns={'Quantity': 'Total_Units_Sold'}, inplace=True)\n",
        "\n",
        "# Merge with product table to get initial stock levels\n",
        "stock_sales = product_table.merge(product_sales_quantity, on='Product_ID', how='left')\n",
        "\n",
        "# Fill NaN values in 'Total_Units_Sold' with 0 (for products with no sales)\n",
        "stock_sales['Total_Units_Sold'].fillna(0, inplace=True)\n",
        "\n",
        "# Calculate Stock-to-Sales Ratio\n",
        "# Add a small value to avoid division by zero for products with zero sales\n",
        "stock_sales['Stock_to_Sales_Ratio'] = stock_sales['Stock_Level_initial'] / (stock_sales['Total_Units_Sold'] + 1e-6)\n",
        "\n",
        "# Identify overstocked products (e.g., high Stock-to-Sales Ratio)\n",
        "# Sorting by ratio in descending order to find the most overstocked\n",
        "overstocked_products = stock_sales.sort_values(by='Stock_to_Sales_Ratio', ascending=False)"
      ],
      "execution_count": null,
      "outputs": []
    },
    {
      "cell_type": "code",
      "metadata": {
        "id": "23160fc2"
      },
      "source": [
        "# Merge sales and product tables to get cost price for profit calculation\n",
        "sales_with_products = sales_table.merge(\n",
        "    product_table[['Product_ID', 'Cost_Price_CHF']],\n",
        "    on='Product_ID',\n",
        "    how='left'\n",
        ")\n",
        "\n",
        "# Calculate profit for each sale\n",
        "sales_with_products['Profit_CHF'] = (sales_with_products['Unit_Price_CHF'] * sales_with_products['Quantity']) - (sales_with_products['Cost_Price_CHF'] * sales_with_products['Quantity']) - sales_with_products['Discount_CHF']"
      ],
      "execution_count": null,
      "outputs": []
    },
    {
      "cell_type": "code",
      "source": [
        "# Seaborn bar plot for average ROI (already calculated in avg_roi)\n",
        "plt.figure(figsize=(8, 5))\n",
        "sns.barplot(x='ROI', y='Channel', data=avg_roi, palette='crest')\n",
        "plt.title('Average ROI by Marketing Channel', fontsize=14, weight='bold')\n",
        "plt.xlabel('Return on Investment (ROI)')\n",
        "plt.ylabel('Marketing Channel')\n",
        "plt.tight_layout()\n",
        "plt.show()"
      ],
      "metadata": {
        "id": "YRcWC2VzqSNo"
      },
      "execution_count": null,
      "outputs": []
    },
    {
      "cell_type": "markdown",
      "source": [
        "## Overstocked products"
      ],
      "metadata": {
        "id": "tb4TyPULqn7S"
      }
    },
    {
      "cell_type": "code",
      "source": [
        "# Import required libraries\n",
        "import matplotlib.pyplot as plt\n",
        "import seaborn as sns\n",
        "\n",
        "# Ensure your data frame 'overstocked_products' exists before running this\n",
        "# Example: overstocked_products = your_dataframe_here\n",
        "\n",
        "# Check if columns exist before plotting\n",
        "if 'Stock_to_Sales_Ratio' in overstocked_products.columns and 'Product_Name' in overstocked_products.columns:\n",
        "    plt.figure(figsize=(10, 6))\n",
        "    sns.barplot(\n",
        "        x='Stock_to_Sales_Ratio',\n",
        "        y='Product_Name',\n",
        "        data=overstocked_products.head(10),\n",
        "        palette='Oranges_r'\n",
        "    )\n",
        "    plt.title('Top 10 Overstocked Products by Stock-to-Sales Ratio', fontsize=14, weight='bold')\n",
        "    plt.xlabel('Stock-to-Sales Ratio')\n",
        "    plt.ylabel('Product Name')\n",
        "    plt.tight_layout()\n",
        "    plt.show()\n",
        "else:\n",
        "    print(\"⚠️ Columns 'Stock_to_Sales_Ratio' or 'Product_Name' not found in 'overstocked_products'. Please check your data.\")\n"
      ],
      "metadata": {
        "id": "3eWbQ3eCqrw4"
      },
      "execution_count": null,
      "outputs": []
    },
    {
      "cell_type": "code",
      "source": [
        "# --- Import necessary libraries ---\n",
        "import matplotlib.pyplot as plt\n",
        "import seaborn as sns\n",
        "import pandas as pd\n",
        "\n",
        "# --- Check if the dataframe and columns exist ---\n",
        "if 'sales_with_products' in locals() and \\\n",
        "   'Profit_CHF' in sales_with_products.columns and \\\n",
        "   'Product_Name' in sales_with_products.columns:\n",
        "\n",
        "    # Aggregate unprofitable sales by product\n",
        "    unprofitable_by_product = (\n",
        "        sales_with_products[sales_with_products['Profit_CHF'] <= 0]\n",
        "        .groupby('Product_Name')['Profit_CHF']\n",
        "        .sum()\n",
        "        .reset_index()\n",
        "        .sort_values('Profit_CHF')\n",
        "        .head(10)\n",
        "    )\n",
        "\n",
        "    # Plot using seaborn\n",
        "    plt.figure(figsize=(10, 6))\n",
        "    sns.barplot(\n",
        "        x='Profit_CHF',\n",
        "        y='Product_Name',\n",
        "        data=unprofitable_by_product,\n",
        "        palette='Reds_r'\n",
        "    )\n",
        "    plt.title('Top 10 Unprofitable Products by Total Profit (CHF)', fontsize=14, weight='bold')\n",
        "    plt.xlabel('Total Profit (CHF)')\n",
        "    plt.ylabel('Product Name')\n",
        "    plt.tight_layout()\n",
        "    plt.show()\n",
        "\n",
        "else:\n",
        "    print(\"⚠️ Please ensure your dataframe 'sales_with_products' has the columns 'Product_Name' and 'Profit_CHF'.\")\n"
      ],
      "metadata": {
        "id": "BT_8f6TkrVCx"
      },
      "execution_count": null,
      "outputs": []
    },
    {
      "cell_type": "code",
      "source": [
        "# --- Merge sales with product details ---\n",
        "sales_with_products = sales_table.merge(\n",
        "    product_table[['Product_ID', 'Product_Name', 'Category', 'Cost_Price_CHF', 'Selling_Price_CHF']],\n",
        "    on='Product_ID',\n",
        "    how='left'\n",
        ")\n",
        "\n",
        "# --- Calculate Profit per sale ---\n",
        "# Profit = Total_Price_CHF - (Cost_Price_CHF * Quantity)\n",
        "sales_with_products['Profit_CHF'] = sales_with_products['Total_Price_CHF'] - (\n",
        "    sales_with_products['Cost_Price_CHF'] * sales_with_products['Quantity']\n",
        ")\n",
        "\n",
        "# --- Verify columns ---\n",
        "print(sales_with_products[['Product_Name', 'Profit_CHF']].head())\n"
      ],
      "metadata": {
        "id": "hAN48qd4r86n"
      },
      "execution_count": null,
      "outputs": []
    },
    {
      "cell_type": "code",
      "source": [
        "# --- Import libraries ---\n",
        "import pandas as pd\n",
        "import matplotlib.pyplot as plt\n",
        "import seaborn as sns\n",
        "\n",
        "# --- Load your datasets ---\n",
        "sales_table = pd.read_csv('/content/sales_table-sheet1-sourcetable.csv')\n",
        "product_table = pd.read_csv('/content/product_table-sheet1-sourcetable.csv')\n",
        "\n",
        "# --- Merge sales with product details ---\n",
        "sales_with_products = sales_table.merge(\n",
        "    product_table[['Product_ID', 'Product_Name', 'Category', 'Cost_Price_CHF', 'Selling_Price_CHF']],\n",
        "    on='Product_ID',\n",
        "    how='left'\n",
        ")\n",
        "\n",
        "# --- Calculate Profit per sale ---\n",
        "# Profit = Total revenue - Total cost\n",
        "sales_with_products['Profit_CHF'] = sales_with_products['Total_Price_CHF'] - (\n",
        "    sales_with_products['Cost_Price_CHF'] * sales_with_products['Quantity']\n",
        ")\n",
        "\n",
        "# --- Aggregate unprofitable sales by product ---\n",
        "unprofitable_by_product = (\n",
        "    sales_with_products[sales_with_products['Profit_CHF'] <= 0]\n",
        "    .groupby('Product_Name')['Profit_CHF']\n",
        "    .sum()\n",
        "    .reset_index()\n",
        "    .sort_values('Profit_CHF')\n",
        "    .head(10)\n",
        ")\n",
        "\n",
        "# --- Display unprofitable products ---\n",
        "print(\"Top 10 Unprofitable Products by Total Profit (CHF):\")\n",
        "print(unprofitable_by_product)\n",
        "\n",
        "# --- Visualization ---\n",
        "plt.figure(figsize=(10, 6))\n",
        "sns.barplot(\n",
        "    x='Profit_CHF',\n",
        "    y='Product_Name',\n",
        "    data=unprofitable_by_product,\n",
        "    palette='Reds_r'\n",
        ")\n",
        "plt.title('Top 10 Unprofitable Products by Total Profit (CHF)', fontsize=14, weight='bold')\n",
        "plt.xlabel('Total Profit (CHF)')\n",
        "plt.ylabel('Product Name')\n",
        "plt.tight_layout()\n",
        "plt.show()\n"
      ],
      "metadata": {
        "id": "bzU_6eHUsS06"
      },
      "execution_count": null,
      "outputs": []
    },
    {
      "cell_type": "code",
      "source": [
        "# Aggregate unprofitable sales by product\n",
        "unprofitable_by_product = sales_with_products[sales_with_products['Profit_CHF'] <= 0].groupby('Product_Name')['Profit_CHF'].sum().reset_index().sort_values('Profit_CHF').head(10)\n",
        "\n",
        "# Seaborn bar plot\n",
        "plt.figure(figsize=(10, 6))\n",
        "sns.barplot(x='Profit_CHF', y='Product_Name', data=unprofitable_by_product, palette='Reds_r')\n",
        "plt.title('Top 10 Unprofitable Products by Total Profit (CHF)', fontsize=14, weight='bold')\n",
        "plt.xlabel('Total Profit (CHF)')\n",
        "plt.ylabel('Product Name')\n",
        "plt.tight_layout()\n",
        "plt.show()"
      ],
      "metadata": {
        "id": "yqJZstMcsbIp"
      },
      "execution_count": null,
      "outputs": []
    },
    {
      "cell_type": "markdown",
      "source": [
        "##INCREASE INCOME"
      ],
      "metadata": {
        "id": "GTIYRmH7tEPt"
      }
    },
    {
      "cell_type": "code",
      "source": [
        "# --- Top Revenue-Generating Products ---\n",
        "top_revenue_products = (\n",
        "    sales_with_products.groupby('Product_Name')['Total_Price_CHF']\n",
        "    .sum()\n",
        "    .reset_index()\n",
        "    .sort_values('Total_Price_CHF', ascending=False)\n",
        "    .head(10)\n",
        ")\n",
        "\n",
        "# --- Display ---\n",
        "print(\"Top 10 Products by Revenue (CHF):\")\n",
        "print(top_revenue_products)\n",
        "\n",
        "# --- Visualization ---\n",
        "plt.figure(figsize=(10, 6))\n",
        "sns.barplot(\n",
        "    x='Total_Price_CHF',\n",
        "    y='Product_Name',\n",
        "    data=top_revenue_products,\n",
        "    palette='Greens_r'\n",
        ")\n",
        "plt.title('Top 10 Revenue-Generating Products', fontsize=14, weight='bold')\n",
        "plt.xlabel('Total Revenue (CHF)')\n",
        "plt.ylabel('Product Name')\n",
        "plt.tight_layout()\n",
        "plt.show()\n"
      ],
      "metadata": {
        "id": "6Gi6ZHFgtIFC"
      },
      "execution_count": null,
      "outputs": []
    },
    {
      "cell_type": "markdown",
      "source": [
        "## Find customers segemnt"
      ],
      "metadata": {
        "id": "B-WYz-DrtS-j"
      }
    },
    {
      "cell_type": "code",
      "source": [
        "# --- Merge customers with sales ---\n",
        "sales_with_customers = sales_table.merge(\n",
        "    customer_table[['Customer_ID', 'Town', 'Gender', 'Age']],\n",
        "    on='Customer_ID',\n",
        "    how='left'\n",
        ")\n",
        "\n",
        "# --- Calculate total revenue per location ---\n",
        "revenue_by_location = (\n",
        "    sales_with_customers.groupby('Town')['Total_Price_CHF']\n",
        "    .sum()\n",
        "    .reset_index()\n",
        "    .sort_values('Total_Price_CHF', ascending=False)\n",
        "    .head(10)\n",
        ")\n",
        "\n",
        "# --- Display ---\n",
        "print(\"Top 10 Locations by Total Spending (CHF):\")\n",
        "print(revenue_by_location)\n",
        "\n",
        "# --- Visualization ---\n",
        "plt.figure(figsize=(10, 6))\n",
        "sns.barplot(\n",
        "    x='Total_Price_CHF',\n",
        "    y='Town',\n",
        "    data=revenue_by_location,\n",
        "    palette='Blues_r'\n",
        ")\n",
        "plt.title('Top 10 Locations by Customer Spending', fontsize=14, weight='bold')\n",
        "plt.xlabel('Total Revenue (CHF)')\n",
        "plt.ylabel('Location')\n",
        "plt.tight_layout()\n",
        "plt.show()"
      ],
      "metadata": {
        "id": "t500Mc5etVjj"
      },
      "execution_count": null,
      "outputs": []
    },
    {
      "cell_type": "markdown",
      "source": [
        "##valuate Marketing Channels by ROI"
      ],
      "metadata": {
        "id": "EPKq5olptpMy"
      }
    },
    {
      "cell_type": "code",
      "source": [
        "# --- Calculate ROI (Return on Investment) per Channel ---\n",
        "marketing_table['ROI'] = marketing_table['Revenue_Generated_CHF'] / marketing_table['Budget_CHF']\n",
        "\n",
        "# --- Sort and visualize ---\n",
        "top_marketing_channels = marketing_table.groupby('Channel')['ROI'].mean().reset_index().sort_values('ROI', ascending=False)\n",
        "\n",
        "print(\"Marketing Channels Ranked by ROI:\")\n",
        "print(top_marketing_channels)\n",
        "\n",
        "# --- Visualization ---\n",
        "plt.figure(figsize=(8, 5))\n",
        "sns.barplot(\n",
        "    x='ROI',\n",
        "    y='Channel',\n",
        "    data=top_marketing_channels,\n",
        "    palette='Purples_r'\n",
        ")\n",
        "plt.title('Average ROI by Marketing Channel', fontsize=14, weight='bold')\n",
        "plt.xlabel('Average ROI')\n",
        "plt.ylabel('Marketing Channel')\n",
        "plt.tight_layout()\n",
        "plt.show()\n"
      ],
      "metadata": {
        "id": "5QISmoj1tqdS"
      },
      "execution_count": null,
      "outputs": []
    },
    {
      "cell_type": "code",
      "source": [
        "\n"
      ],
      "metadata": {
        "id": "m8HuJenHh-ao"
      },
      "execution_count": null,
      "outputs": []
    }
  ]
}